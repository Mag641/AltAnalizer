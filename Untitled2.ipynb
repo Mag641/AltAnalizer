{
 "cells": [
  {
   "cell_type": "code",
   "execution_count": 1,
   "id": "62c2be73",
   "metadata": {},
   "outputs": [],
   "source": [
    "ip = get_ipython()\n",
    "import ipywidgets as widgets\n",
    "def display_with_id(obj, display_id=None, update=False):\n",
    "    iopub = ip.kernel.iopub_socket\n",
    "    session = ip.kernel.session\n",
    "    data, md = ip.display_formatter.format(obj)\n",
    "    transient = {'display_id': display_id}\n",
    "    content = {'data': data, 'metadata': md, 'transient': transient}\n",
    "    if display_id is None: content.pop('transient')  # make display_id option\n",
    "    msg_type = 'update_display_data' if update else 'display_data'\n",
    "    session.send(iopub, msg_type, content, parent=ip.parent_header)\n",
    "display = display_with_id"
   ]
  },
  {
   "cell_type": "code",
   "execution_count": 13,
   "id": "98a3b718",
   "metadata": {},
   "outputs": [
    {
     "data": {
      "text/plain": [
       "'no output here, update above'"
      ]
     },
     "metadata": {},
     "output_type": "display_data"
    }
   ],
   "source": [
    "display('initial display', 'some_destination')"
   ]
  },
  {
   "cell_type": "code",
   "execution_count": 14,
   "id": "db606524",
   "metadata": {},
   "outputs": [
    {
     "data": {
      "text/plain": [
       "'no output here, update above'"
      ]
     },
     "metadata": {},
     "output_type": "display_data"
    }
   ],
   "source": [
    "display('spoiler alert: output updated in both', 'some_destination')"
   ]
  },
  {
   "cell_type": "code",
   "execution_count": 15,
   "id": "3cfde132",
   "metadata": {},
   "outputs": [],
   "source": [
    "display('no output here, update above', 'some_destination', update=True)"
   ]
  },
  {
   "cell_type": "code",
   "execution_count": 5,
   "id": "f611c89a",
   "metadata": {},
   "outputs": [],
   "source": [
    "w = widgets.IntSlider()"
   ]
  },
  {
   "cell_type": "code",
   "execution_count": 6,
   "id": "165f8f43",
   "metadata": {},
   "outputs": [
    {
     "data": {
      "application/vnd.jupyter.widget-view+json": {
       "model_id": "98c76c603bbb43b7ba5193fef8b80f89",
       "version_major": 2,
       "version_minor": 0
      },
      "text/plain": [
       "IntSlider(value=0)"
      ]
     },
     "metadata": {},
     "output_type": "display_data"
    },
    {
     "data": {},
     "metadata": {},
     "output_type": "display_data"
    },
    {
     "data": {
      "text/plain": [
       "'ABCDEFG'"
      ]
     },
     "metadata": {},
     "output_type": "display_data"
    }
   ],
   "source": [
    "display(w)"
   ]
  },
  {
   "cell_type": "code",
   "execution_count": 7,
   "id": "be53d564",
   "metadata": {},
   "outputs": [],
   "source": [
    "w.value = 13"
   ]
  },
  {
   "cell_type": "code",
   "execution_count": 8,
   "id": "659ce379",
   "metadata": {},
   "outputs": [],
   "source": [
    "first_disp = True"
   ]
  },
  {
   "cell_type": "code",
   "execution_count": 9,
   "id": "e4505e14",
   "metadata": {},
   "outputs": [],
   "source": [
    "def value_change(change):\n",
    "    global first_disp\n",
    "    if first_disp:\n",
    "        display('ABCDEFG', 'some_destination', update=False)\n",
    "        first_disp = False\n",
    "    else:\n",
    "        display(\"Not first anymore!\", \"some_destination\", update=True)"
   ]
  },
  {
   "cell_type": "code",
   "execution_count": 10,
   "id": "bb9a5a5b",
   "metadata": {},
   "outputs": [],
   "source": [
    "w.observe(value_change, names='value')"
   ]
  }
 ],
 "metadata": {
  "kernelspec": {
   "display_name": "Python 3",
   "language": "python",
   "name": "python3"
  },
  "language_info": {
   "codemirror_mode": {
    "name": "ipython",
    "version": 3
   },
   "file_extension": ".py",
   "mimetype": "text/x-python",
   "name": "python",
   "nbconvert_exporter": "python",
   "pygments_lexer": "ipython3",
   "version": "3.8.2"
  }
 },
 "nbformat": 4,
 "nbformat_minor": 5
}
