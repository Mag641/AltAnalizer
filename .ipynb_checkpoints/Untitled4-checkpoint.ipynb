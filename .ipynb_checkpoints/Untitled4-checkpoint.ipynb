{
 "cells": [
  {
   "cell_type": "code",
   "execution_count": 12,
   "id": "cde2b5fa",
   "metadata": {},
   "outputs": [
    {
     "name": "stderr",
     "output_type": "stream",
     "text": [
      "Preparing plots...: 100%|██████████| 23/23 [00:00<00:00, 199.97it/s]\n",
      "Preparing plots...: 100%|██████████| 23/23 [00:00<00:00, 201.70it/s]\n"
     ]
    },
    {
     "data": {
      "application/vnd.jupyter.widget-view+json": {
       "model_id": "a3b11c17233b45f395e9601f429a6332",
       "version_major": 2,
       "version_minor": 0
      },
      "text/plain": [
       "IntSlider(value=2, max=10)"
      ]
     },
     "metadata": {},
     "output_type": "display_data"
    }
   ],
   "source": [
    "\n",
    "import os\n",
    "import ipywidgets as widgets\n",
    "\n",
    "import plots\n",
    "import repo_parsing\n",
    "import utils\n",
    "from IPython.display import display\n",
    "import jovian\n",
    "import time\n",
    "\n",
    "\n",
    "if not os.path.exists('repos_info'):\n",
    "    os.mkdir('repos_info')\n",
    "org = 'klaytn'\n",
    "repo = 'klaytn'\n",
    "\n",
    "com_rel_df, issues_df = utils.read_all_history_from_files(org, repo)\n",
    "if com_rel_df is None or issues_df is None:\n",
    "    history = repo_parsing.get_all(org, repo)\n",
    "    utils.write_all_history_to_files(org, repo, history)\n",
    "    com_rel_df, issues_df = utils.read_all_history_from_files(org, repo)\n",
    "\n",
    "fig, sliders = plots.plot_with_slider({\n",
    "        'commits': plots.commits(com_rel_df, for_sliders=True),\n",
    "        'releases': plots.releases(com_rel_df, yaxis='y2', for_sliders=True),\n",
    "    }, org=org, repo=repo, show=False)\n",
    "'''\n",
    "output = widgets.Output(layout={'border': '1px solid black'})\n",
    "\n",
    "for slider in sliders:\n",
    "    output.append_display_data(slider)\n",
    "output.append_display_data(fig)\n",
    "output\n",
    "'''\n",
    "widgets.IntSlider(min=0, max=10, value=2)\n",
    "\n"
   ]
  },
  {
   "cell_type": "code",
   "execution_count": null,
   "id": "6881cd92",
   "metadata": {},
   "outputs": [],
   "source": []
  }
 ],
 "metadata": {
  "kernelspec": {
   "display_name": "Python 3",
   "language": "python",
   "name": "python3"
  },
  "language_info": {
   "codemirror_mode": {
    "name": "ipython",
    "version": 3
   },
   "file_extension": ".py",
   "mimetype": "text/x-python",
   "name": "python",
   "nbconvert_exporter": "python",
   "pygments_lexer": "ipython3",
   "version": "3.8.2"
  }
 },
 "nbformat": 4,
 "nbformat_minor": 5
}
