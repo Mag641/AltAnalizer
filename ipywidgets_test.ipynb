{
 "cells": [
  {
   "cell_type": "code",
   "execution_count": 2,
   "metadata": {
    "collapsed": true
   },
   "outputs": [
    {
     "data": {
      "text/plain": "interactive(children=(Dropdown(description='feature1', options=('sepal length (cm)', 'sepal width (cm)', 'peta…",
      "application/vnd.jupyter.widget-view+json": {
       "version_major": 2,
       "version_minor": 0,
       "model_id": "21ff6d74e45a42019d114b89c1486e5a"
      }
     },
     "metadata": {},
     "output_type": "display_data"
    }
   ],
   "source": [
    "import pandas as pd\n",
    "import numpy as np\n",
    "\n",
    "import matplotlib.pyplot as plt\n",
    "import ipywidgets as widgets\n",
    "\n",
    "import warnings\n",
    "warnings.filterwarnings(\"ignore\")\n",
    "\n",
    "%matplotlib widget\n",
    "\n",
    "from sklearn.datasets import load_iris\n",
    "\n",
    "iris = load_iris()\n",
    "\n",
    "iris_df = pd.DataFrame(data=iris.data, columns=iris.feature_names)\n",
    "iris_df[\"FlowerType\"] = iris.target #[iris.target_names[t] for t in iris.target]\n",
    "\n",
    "iris_df.head()\n",
    "\n",
    "def create_scatter(feature1, feature2):\n",
    "    with plt.style.context(\"ggplot\"):\n",
    "        fig = plt.figure(figsize=(8,4))\n",
    "\n",
    "        plt.scatter(x = iris_df[feature1],\n",
    "                    y = iris_df[feature2],\n",
    "                    c=iris_df[\"FlowerType\"],\n",
    "                    s=20\n",
    "                   )\n",
    "\n",
    "        plt.xlabel(feature1.capitalize())\n",
    "        plt.ylabel(feature2.capitalize())\n",
    "\n",
    "        plt.title(\"%s vs %s\"%(feature1.capitalize(), feature2.capitalize()))\n",
    "\n",
    "widgets.interact(create_scatter, feature1=iris.feature_names, feature2=iris.feature_names);"
   ]
  }
 ],
 "metadata": {
  "kernelspec": {
   "display_name": "Python 3",
   "language": "python",
   "name": "python3"
  },
  "language_info": {
   "codemirror_mode": {
    "name": "ipython",
    "version": 2
   },
   "file_extension": ".py",
   "mimetype": "text/x-python",
   "name": "python",
   "nbconvert_exporter": "python",
   "pygments_lexer": "ipython2",
   "version": "2.7.6"
  }
 },
 "nbformat": 4,
 "nbformat_minor": 0
}