{
 "cells": [
  {
   "cell_type": "code",
   "execution_count": 2,
   "outputs": [
    {
     "name": "stderr",
     "output_type": "stream",
     "text": [
      "Preparing plots...: 100%|██████████| 23/23 [00:00<00:00, 365.08it/s]\n"
     ]
    },
    {
     "data": {
      "text/plain": "interactive(children=(SelectionSlider(description='Group by:', index=7, options=(' days', '2 days', '3 days', …",
      "application/vnd.jupyter.widget-view+json": {
       "version_major": 2,
       "version_minor": 0,
       "model_id": "b8e6bd14aa5b4bb4aea5e713a5b95b28"
      }
     },
     "metadata": {},
     "output_type": "display_data"
    },
    {
     "data": {
      "text/plain": "<function __main__.change_trace(slider_value)>"
     },
     "execution_count": 2,
     "metadata": {},
     "output_type": "execute_result"
    }
   ],
   "source": [
    "import os\n",
    "\n",
    "import ipywidgets as widgets\n",
    "\n",
    "import plots\n",
    "import repo_parsing\n",
    "import utils\n",
    "from constants import FREQUENCIES\n",
    "\n",
    "\n",
    "if not os.path.exists('repos_info'):\n",
    "    os.mkdir('repos_info')\n",
    "org = 'klaytn'\n",
    "repo = 'klaytn'\n",
    "\n",
    "com_rel_df, issues_df = utils.read_all_history_from_files(org, repo)\n",
    "if com_rel_df is None or issues_df is None:\n",
    "    history = repo_parsing.get_all(org, repo)\n",
    "    utils.write_all_history_to_files(org, repo, history)\n",
    "    com_rel_df, issues_df = utils.read_all_history_from_files(org, repo)\n",
    "\n",
    "fig, slider = plots.plot_with_slider({\n",
    "        'commits': plots.commits(com_rel_df, for_sliders=True),\n",
    "    }, show=False)\n",
    "\n",
    "def change_trace(slider_value):\n",
    "    freq = utils.human_readable_to_freq(slider_value)\n",
    "    trace_index = FREQUENCIES.index(freq)\n",
    "    with fig.batch_update():\n",
    "        print('batch_update')\n",
    "        for i, trace in enumerate(fig.data):\n",
    "            if i == trace_index:\n",
    "                trace.visible = True\n",
    "            else:\n",
    "                trace.visible = False\n",
    "\n",
    "    print('after update')\n",
    "    chosen_trace = fig.data[trace_index]\n",
    "    print(chosen_trace.name, chosen_trace.visible)\n",
    "    fig.show()\n",
    "\n",
    "widgets.interact(change_trace, slider_value=slider)\n"
   ],
   "metadata": {
    "collapsed": false,
    "pycharm": {
     "name": "#%%\n"
    }
   }
  }
 ],
 "metadata": {
  "kernelspec": {
   "display_name": "Python 3",
   "language": "python",
   "name": "python3"
  },
  "language_info": {
   "codemirror_mode": {
    "name": "ipython",
    "version": 2
   },
   "file_extension": ".py",
   "mimetype": "text/x-python",
   "name": "python",
   "nbconvert_exporter": "python",
   "pygments_lexer": "ipython2",
   "version": "2.7.6"
  }
 },
 "nbformat": 4,
 "nbformat_minor": 0
}