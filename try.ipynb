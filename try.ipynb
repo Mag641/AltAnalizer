{
 "cells": [
  {
   "cell_type": "code",
   "execution_count": 11,
   "outputs": [
    {
     "name": "stderr",
     "output_type": "stream",
     "text": [
      "Preparing plots...: 100%|██████████| 23/23 [00:00<00:00, 190.07it/s]\n",
      "Preparing plots...: 100%|██████████| 23/23 [00:00<00:00, 194.91it/s]\n"
     ]
    },
    {
     "data": {
      "text/plain": "Output()",
      "application/vnd.jupyter.widget-view+json": {
       "version_major": 2,
       "version_minor": 0,
       "model_id": "bd38d15d94e0480ea089769f6b3e0f64"
      }
     },
     "metadata": {},
     "output_type": "display_data"
    },
    {
     "data": {
      "text/plain": "VBox(children=(SelectionSlider(description='Group commits by:', index=7, options=(' days', '2 days', '3 days',…",
      "application/vnd.jupyter.widget-view+json": {
       "version_major": 2,
       "version_minor": 0,
       "model_id": "65cbbebcc97e451f851e80dd96887c0e"
      }
     },
     "metadata": {},
     "output_type": "display_data"
    }
   ],
   "source": [
    "import os\n",
    "import ipywidgets as widgets\n",
    "\n",
    "import plots\n",
    "import repo_parsing\n",
    "import utils\n",
    "import jovian\n",
    "from IPython.display import display\n",
    "\n",
    "\n",
    "if not os.path.exists('repos_info'):\n",
    "    os.mkdir('repos_info')\n",
    "org = 'klaytn'\n",
    "repo = 'klaytn'\n",
    "\n",
    "com_rel_df, issues_df = utils.read_all_history_from_files(org, repo)\n",
    "if com_rel_df is None or issues_df is None:\n",
    "    history = repo_parsing.get_all(org, repo)\n",
    "    utils.write_all_history_to_files(org, repo, history)\n",
    "    com_rel_df, issues_df = utils.read_all_history_from_files(org, repo)\n",
    "\n",
    "fig, sliders = plots.plot_with_slider({\n",
    "        'commits': plots.commits(com_rel_df, for_sliders=True),\n",
    "        'releases': plots.releases(com_rel_df, yaxis='y2', for_sliders=True),\n",
    "    }, org=org, repo=repo, show=False)\n",
    "\n",
    "output = widgets.Output()\n",
    "display(output)\n",
    "controls = widgets.VBox(sliders)\n",
    "controls\n",
    "widgets.interactive()"
   ],
   "metadata": {
    "collapsed": false,
    "pycharm": {
     "name": "#%%\n"
    }
   }
  }
 ],
 "metadata": {
  "kernelspec": {
   "display_name": "Python 3",
   "language": "python",
   "name": "python3"
  },
  "language_info": {
   "codemirror_mode": {
    "name": "ipython",
    "version": 2
   },
   "file_extension": ".py",
   "mimetype": "text/x-python",
   "name": "python",
   "nbconvert_exporter": "python",
   "pygments_lexer": "ipython2",
   "version": "2.7.6"
  }
 },
 "nbformat": 4,
 "nbformat_minor": 0
}