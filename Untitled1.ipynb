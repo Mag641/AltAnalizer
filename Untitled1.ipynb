{
 "cells": [
  {
   "cell_type": "code",
   "execution_count": 4,
   "id": "ae17f7b9",
   "metadata": {},
   "outputs": [
    {
     "name": "stderr",
     "output_type": "stream",
     "text": [
      "Preparing plots...: 100%|██████████| 23/23 [00:00<00:00, 247.29it/s]\n"
     ]
    },
    {
     "data": {
      "application/vnd.jupyter.widget-view+json": {
       "model_id": "a992859204124c2c8f820fa1ded8efb9",
       "version_major": 2,
       "version_minor": 0
      },
      "text/plain": [
       "interactive(children=(SelectionSlider(description='Group by:', index=7, options=(' days', '2 days', '3 days', …"
      ]
     },
     "metadata": {},
     "output_type": "display_data"
    },
    {
     "data": {
      "text/plain": [
       "<function __main__.change_trace(slider_value)>"
      ]
     },
     "execution_count": 4,
     "metadata": {},
     "output_type": "execute_result"
    }
   ],
   "source": [
    "\n",
    "import os\n",
    "\n",
    "import pandas as pd\n",
    "\n",
    "import utils\n",
    "import plots\n",
    "import repo_parsing\n",
    "import json\n",
    "import ipywidgets as widgets\n",
    "from constants import FREQUENCIES\n",
    "\n",
    "\n",
    "if not os.path.exists('repos_info'):\n",
    "    os.mkdir('repos_info')\n",
    "org = 'klaytn'\n",
    "repo = 'klaytn'\n",
    "\n",
    "com_rel_df, issues_df = utils.read_all_history_from_files(org, repo)\n",
    "if com_rel_df is None or issues_df is None:\n",
    "    history = repo_parsing.get_all(org, repo)\n",
    "    utils.write_all_history_to_files(org, repo, history)\n",
    "    com_rel_df, issues_df = utils.read_all_history_from_files(org, repo)\n",
    "\n",
    "fig, slider = plots.plot_with_slider({\n",
    "        'commits': plots.commits(com_rel_df, for_sliders=True),\n",
    "    }, show=False)\n",
    "\n",
    "def change_trace(slider_value):\n",
    "    print('changing...')\n",
    "    freq = utils.human_readable_to_freq(slider_value)\n",
    "    trace_index = FREQUENCIES.index(freq)\n",
    "    print(f'freq={freq} trace_index={trace_index}')\n",
    "    with fig.batch_update():\n",
    "        print('batch_update')\n",
    "        # print([trace.visible for trace in fig.data])\n",
    "        for i, trace in enumerate(fig.data):\n",
    "            if i == trace_index:\n",
    "                trace.visible = True\n",
    "            else:\n",
    "                trace.visible = False\n",
    "        '''\n",
    "        trace3 = fig.data[3]\n",
    "        trace5 = fig.data[5]\n",
    "        trace9 = fig.data[9]\n",
    "        trace10 = fig.data[10]\n",
    "        trace11 = fig.data[11]\n",
    "\n",
    "        trace3.visible = True\n",
    "        trace5.visible = True\n",
    "        trace9.visible = True\n",
    "        trace10.visible = True\n",
    "        trace11.visible = True\n",
    "        '''\n",
    "        # fig.show()\n",
    "        # print([trace.visible for trace in fig.data])\n",
    "\n",
    "        # fig.data[3].visible = True\n",
    "        # fig.data[ind].visible = True\n",
    "        # fig.data[trace_index].visible = True\n",
    "\n",
    "    print('after update')\n",
    "    chosen_trace = fig.data[trace_index]\n",
    "    print(chosen_trace.name, chosen_trace.visible)\n",
    "    fig.show()\n",
    "\n",
    "widgets.interact(change_trace, slider_value=slider)\n",
    "\n"
   ]
  },
  {
   "cell_type": "code",
   "execution_count": null,
   "id": "673252d1",
   "metadata": {},
   "outputs": [],
   "source": []
  }
 ],
 "metadata": {
  "kernelspec": {
   "display_name": "Python 3",
   "language": "python",
   "name": "python3"
  },
  "language_info": {
   "codemirror_mode": {
    "name": "ipython",
    "version": 3
   },
   "file_extension": ".py",
   "mimetype": "text/x-python",
   "name": "python",
   "nbconvert_exporter": "python",
   "pygments_lexer": "ipython3",
   "version": "3.8.2"
  }
 },
 "nbformat": 4,
 "nbformat_minor": 5
}
